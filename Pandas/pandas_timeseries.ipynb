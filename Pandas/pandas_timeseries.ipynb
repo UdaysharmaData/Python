{
 "cells": [
  {
   "cell_type": "code",
   "execution_count": 2,
   "metadata": {},
   "outputs": [],
   "source": [
    "import pandas as pd\n",
    "import numpy as np\n"
   ]
  },
  {
   "cell_type": "markdown",
   "metadata": {},
   "source": [
    "# TimeDelta\n",
    "\n",
    "Change in Time"
   ]
  },
  {
   "cell_type": "code",
   "execution_count": 7,
   "metadata": {},
   "outputs": [
    {
     "data": {
      "text/plain": [
       "Timedelta('20 days 01:57:26')"
      ]
     },
     "execution_count": 7,
     "metadata": {},
     "output_type": "execute_result"
    }
   ],
   "source": [
    "# Create using Timestamp Objects\n",
    "t1 = pd.Timestamp('6th Jan 2023 8:20:14')\n",
    "t2 = pd.Timestamp('26th Jan 2023 10:17:40')\n",
    "\n",
    "t2-t1\n"
   ]
  },
  {
   "cell_type": "code",
   "execution_count": 13,
   "metadata": {},
   "outputs": [
    {
     "data": {
      "text/plain": [
       "Timedelta('2 days 10:10:10.100000')"
      ]
     },
     "execution_count": 13,
     "metadata": {},
     "output_type": "execute_result"
    }
   ],
   "source": [
    "# Standalone creation\n",
    "\n",
    "pd.Timedelta(days=2,hours=10,minutes=10,seconds=10,milliseconds=100)"
   ]
  },
  {
   "cell_type": "code",
   "execution_count": 14,
   "metadata": {},
   "outputs": [
    {
     "data": {
      "text/plain": [
       "Timestamp('2023-01-08 10:10:10.100000')"
      ]
     },
     "execution_count": 14,
     "metadata": {},
     "output_type": "execute_result"
    }
   ],
   "source": [
    "# Arithemtic\n",
    "\n",
    "pd.Timestamp('6th Jan 2023') + pd.Timedelta(days=2,hours=10,minutes=10,seconds=10,milliseconds=100)"
   ]
  },
  {
   "cell_type": "code",
   "execution_count": 17,
   "metadata": {},
   "outputs": [
    {
     "data": {
      "text/plain": [
       "DatetimeIndex(['2023-01-08 10:10:10.100000', '2023-01-09 10:10:10.100000',\n",
       "               '2023-01-10 10:10:10.100000', '2023-01-11 10:10:10.100000',\n",
       "               '2023-01-12 10:10:10.100000', '2023-01-13 10:10:10.100000',\n",
       "               '2023-01-14 10:10:10.100000', '2023-01-15 10:10:10.100000',\n",
       "               '2023-01-16 10:10:10.100000', '2023-01-17 10:10:10.100000',\n",
       "               '2023-01-18 10:10:10.100000', '2023-01-19 10:10:10.100000',\n",
       "               '2023-01-20 10:10:10.100000', '2023-01-21 10:10:10.100000',\n",
       "               '2023-01-22 10:10:10.100000', '2023-01-23 10:10:10.100000',\n",
       "               '2023-01-24 10:10:10.100000', '2023-01-25 10:10:10.100000',\n",
       "               '2023-01-26 10:10:10.100000', '2023-01-27 10:10:10.100000',\n",
       "               '2023-01-28 10:10:10.100000', '2023-01-29 10:10:10.100000',\n",
       "               '2023-01-30 10:10:10.100000', '2023-01-31 10:10:10.100000',\n",
       "               '2023-02-01 10:10:10.100000', '2023-02-02 10:10:10.100000'],\n",
       "              dtype='datetime64[ns]', freq='D')"
      ]
     },
     "execution_count": 17,
     "metadata": {},
     "output_type": "execute_result"
    }
   ],
   "source": [
    "pd.date_range(start='2023-1-6',end='2023-1-31',freq='D') + pd.Timedelta(days=2,hours=10,minutes=10,seconds=10,milliseconds=100)\n"
   ]
  },
  {
   "cell_type": "code",
   "execution_count": 19,
   "metadata": {},
   "outputs": [
    {
     "data": {
      "text/html": [
       "<div>\n",
       "<style scoped>\n",
       "    .dataframe tbody tr th:only-of-type {\n",
       "        vertical-align: middle;\n",
       "    }\n",
       "\n",
       "    .dataframe tbody tr th {\n",
       "        vertical-align: top;\n",
       "    }\n",
       "\n",
       "    .dataframe thead th {\n",
       "        text-align: right;\n",
       "    }\n",
       "</style>\n",
       "<table border=\"1\" class=\"dataframe\">\n",
       "  <thead>\n",
       "    <tr style=\"text-align: right;\">\n",
       "      <th></th>\n",
       "      <th>order_date</th>\n",
       "      <th>delivery_date</th>\n",
       "    </tr>\n",
       "  </thead>\n",
       "  <tbody>\n",
       "    <tr>\n",
       "      <th>0</th>\n",
       "      <td>5/24/98</td>\n",
       "      <td>2/5/99</td>\n",
       "    </tr>\n",
       "    <tr>\n",
       "      <th>1</th>\n",
       "      <td>4/22/92</td>\n",
       "      <td>3/6/98</td>\n",
       "    </tr>\n",
       "    <tr>\n",
       "      <th>2</th>\n",
       "      <td>2/10/91</td>\n",
       "      <td>8/26/92</td>\n",
       "    </tr>\n",
       "    <tr>\n",
       "      <th>3</th>\n",
       "      <td>7/21/92</td>\n",
       "      <td>11/20/97</td>\n",
       "    </tr>\n",
       "    <tr>\n",
       "      <th>4</th>\n",
       "      <td>9/2/93</td>\n",
       "      <td>6/10/98</td>\n",
       "    </tr>\n",
       "  </tbody>\n",
       "</table>\n",
       "</div>"
      ],
      "text/plain": [
       "  order_date delivery_date\n",
       "0    5/24/98        2/5/99\n",
       "1    4/22/92        3/6/98\n",
       "2    2/10/91       8/26/92\n",
       "3    7/21/92      11/20/97\n",
       "4     9/2/93       6/10/98"
      ]
     },
     "execution_count": 19,
     "metadata": {},
     "output_type": "execute_result"
    }
   ],
   "source": [
    "# Real Life Example\n",
    "df = pd.read_csv(\"deliveries_order.csv\")\n",
    "df.head()"
   ]
  },
  {
   "cell_type": "code",
   "execution_count": 24,
   "metadata": {},
   "outputs": [],
   "source": [
    "df['order_date'] = pd.to_datetime(df['order_date'])"
   ]
  },
  {
   "cell_type": "code",
   "execution_count": 26,
   "metadata": {},
   "outputs": [],
   "source": [
    "df['delivery_date'] = pd.to_datetime(df['delivery_date'])"
   ]
  },
  {
   "cell_type": "code",
   "execution_count": 30,
   "metadata": {},
   "outputs": [],
   "source": [
    "df['delivery_timeperiod'] = df['delivery_date'] - df['order_date']"
   ]
  },
  {
   "cell_type": "code",
   "execution_count": 31,
   "metadata": {},
   "outputs": [
    {
     "data": {
      "text/html": [
       "<div>\n",
       "<style scoped>\n",
       "    .dataframe tbody tr th:only-of-type {\n",
       "        vertical-align: middle;\n",
       "    }\n",
       "\n",
       "    .dataframe tbody tr th {\n",
       "        vertical-align: top;\n",
       "    }\n",
       "\n",
       "    .dataframe thead th {\n",
       "        text-align: right;\n",
       "    }\n",
       "</style>\n",
       "<table border=\"1\" class=\"dataframe\">\n",
       "  <thead>\n",
       "    <tr style=\"text-align: right;\">\n",
       "      <th></th>\n",
       "      <th>order_date</th>\n",
       "      <th>delivery_date</th>\n",
       "      <th>delivery_timeperiod</th>\n",
       "    </tr>\n",
       "  </thead>\n",
       "  <tbody>\n",
       "    <tr>\n",
       "      <th>0</th>\n",
       "      <td>1998-05-24</td>\n",
       "      <td>1999-02-05</td>\n",
       "      <td>257 days</td>\n",
       "    </tr>\n",
       "    <tr>\n",
       "      <th>1</th>\n",
       "      <td>1992-04-22</td>\n",
       "      <td>1998-03-06</td>\n",
       "      <td>2144 days</td>\n",
       "    </tr>\n",
       "    <tr>\n",
       "      <th>2</th>\n",
       "      <td>1991-02-10</td>\n",
       "      <td>1992-08-26</td>\n",
       "      <td>563 days</td>\n",
       "    </tr>\n",
       "    <tr>\n",
       "      <th>3</th>\n",
       "      <td>1992-07-21</td>\n",
       "      <td>1997-11-20</td>\n",
       "      <td>1948 days</td>\n",
       "    </tr>\n",
       "    <tr>\n",
       "      <th>4</th>\n",
       "      <td>1993-09-02</td>\n",
       "      <td>1998-06-10</td>\n",
       "      <td>1742 days</td>\n",
       "    </tr>\n",
       "  </tbody>\n",
       "</table>\n",
       "</div>"
      ],
      "text/plain": [
       "  order_date delivery_date delivery_timeperiod\n",
       "0 1998-05-24    1999-02-05            257 days\n",
       "1 1992-04-22    1998-03-06           2144 days\n",
       "2 1991-02-10    1992-08-26            563 days\n",
       "3 1992-07-21    1997-11-20           1948 days\n",
       "4 1993-09-02    1998-06-10           1742 days"
      ]
     },
     "execution_count": 31,
     "metadata": {},
     "output_type": "execute_result"
    }
   ],
   "source": [
    "df.head()"
   ]
  },
  {
   "cell_type": "code",
   "execution_count": 32,
   "metadata": {},
   "outputs": [
    {
     "data": {
      "text/plain": [
       "Timedelta('1217 days 22:53:53.532934128')"
      ]
     },
     "execution_count": 32,
     "metadata": {},
     "output_type": "execute_result"
    }
   ],
   "source": [
    "df['delivery_timeperiod'].mean()"
   ]
  },
  {
   "cell_type": "markdown",
   "metadata": {},
   "source": [
    "# TimeSeries"
   ]
  },
  {
   "cell_type": "code",
   "execution_count": 33,
   "metadata": {},
   "outputs": [],
   "source": [
    "df1 = pd.read_csv(\"google.csv\")"
   ]
  },
  {
   "cell_type": "code",
   "execution_count": 35,
   "metadata": {},
   "outputs": [
    {
     "data": {
      "text/html": [
       "<div>\n",
       "<style scoped>\n",
       "    .dataframe tbody tr th:only-of-type {\n",
       "        vertical-align: middle;\n",
       "    }\n",
       "\n",
       "    .dataframe tbody tr th {\n",
       "        vertical-align: top;\n",
       "    }\n",
       "\n",
       "    .dataframe thead th {\n",
       "        text-align: right;\n",
       "    }\n",
       "</style>\n",
       "<table border=\"1\" class=\"dataframe\">\n",
       "  <thead>\n",
       "    <tr style=\"text-align: right;\">\n",
       "      <th></th>\n",
       "      <th>Date</th>\n",
       "      <th>Open</th>\n",
       "      <th>High</th>\n",
       "      <th>Low</th>\n",
       "      <th>Close</th>\n",
       "      <th>Adj Close</th>\n",
       "      <th>Volume</th>\n",
       "    </tr>\n",
       "  </thead>\n",
       "  <tbody>\n",
       "    <tr>\n",
       "      <th>0</th>\n",
       "      <td>2004-08-19</td>\n",
       "      <td>49.813290</td>\n",
       "      <td>51.835709</td>\n",
       "      <td>47.800831</td>\n",
       "      <td>49.982655</td>\n",
       "      <td>49.982655</td>\n",
       "      <td>44871361</td>\n",
       "    </tr>\n",
       "    <tr>\n",
       "      <th>1</th>\n",
       "      <td>2004-08-20</td>\n",
       "      <td>50.316402</td>\n",
       "      <td>54.336334</td>\n",
       "      <td>50.062355</td>\n",
       "      <td>53.952770</td>\n",
       "      <td>53.952770</td>\n",
       "      <td>22942874</td>\n",
       "    </tr>\n",
       "    <tr>\n",
       "      <th>2</th>\n",
       "      <td>2004-08-23</td>\n",
       "      <td>55.168217</td>\n",
       "      <td>56.528118</td>\n",
       "      <td>54.321388</td>\n",
       "      <td>54.495735</td>\n",
       "      <td>54.495735</td>\n",
       "      <td>18342897</td>\n",
       "    </tr>\n",
       "    <tr>\n",
       "      <th>3</th>\n",
       "      <td>2004-08-24</td>\n",
       "      <td>55.412300</td>\n",
       "      <td>55.591629</td>\n",
       "      <td>51.591621</td>\n",
       "      <td>52.239197</td>\n",
       "      <td>52.239197</td>\n",
       "      <td>15319808</td>\n",
       "    </tr>\n",
       "    <tr>\n",
       "      <th>4</th>\n",
       "      <td>2004-08-25</td>\n",
       "      <td>52.284027</td>\n",
       "      <td>53.798351</td>\n",
       "      <td>51.746044</td>\n",
       "      <td>52.802086</td>\n",
       "      <td>52.802086</td>\n",
       "      <td>9232276</td>\n",
       "    </tr>\n",
       "  </tbody>\n",
       "</table>\n",
       "</div>"
      ],
      "text/plain": [
       "         Date       Open       High        Low      Close  Adj Close    Volume\n",
       "0  2004-08-19  49.813290  51.835709  47.800831  49.982655  49.982655  44871361\n",
       "1  2004-08-20  50.316402  54.336334  50.062355  53.952770  53.952770  22942874\n",
       "2  2004-08-23  55.168217  56.528118  54.321388  54.495735  54.495735  18342897\n",
       "3  2004-08-24  55.412300  55.591629  51.591621  52.239197  52.239197  15319808\n",
       "4  2004-08-25  52.284027  53.798351  51.746044  52.802086  52.802086   9232276"
      ]
     },
     "execution_count": 35,
     "metadata": {},
     "output_type": "execute_result"
    }
   ],
   "source": [
    "df1.head()"
   ]
  },
  {
   "cell_type": "code",
   "execution_count": 40,
   "metadata": {},
   "outputs": [
    {
     "name": "stdout",
     "output_type": "stream",
     "text": [
      "<class 'pandas.core.frame.DataFrame'>\n",
      "RangeIndex: 4471 entries, 0 to 4470\n",
      "Data columns (total 7 columns):\n",
      " #   Column     Non-Null Count  Dtype         \n",
      "---  ------     --------------  -----         \n",
      " 0   Date       4471 non-null   datetime64[ns]\n",
      " 1   Open       4471 non-null   float64       \n",
      " 2   High       4471 non-null   float64       \n",
      " 3   Low        4471 non-null   float64       \n",
      " 4   Close      4471 non-null   float64       \n",
      " 5   Adj Close  4471 non-null   float64       \n",
      " 6   Volume     4471 non-null   int64         \n",
      "dtypes: datetime64[ns](1), float64(5), int64(1)\n",
      "memory usage: 244.6 KB\n"
     ]
    }
   ],
   "source": [
    "df1.info()"
   ]
  },
  {
   "cell_type": "code",
   "execution_count": 38,
   "metadata": {},
   "outputs": [],
   "source": [
    "df1['Date'] = pd.to_datetime(df1['Date'])"
   ]
  },
  {
   "cell_type": "code",
   "execution_count": 43,
   "metadata": {},
   "outputs": [],
   "source": [
    "df1.set_index('Date',inplace=True)"
   ]
  },
  {
   "cell_type": "code",
   "execution_count": 47,
   "metadata": {},
   "outputs": [
    {
     "data": {
      "text/html": [
       "<div>\n",
       "<style scoped>\n",
       "    .dataframe tbody tr th:only-of-type {\n",
       "        vertical-align: middle;\n",
       "    }\n",
       "\n",
       "    .dataframe tbody tr th {\n",
       "        vertical-align: top;\n",
       "    }\n",
       "\n",
       "    .dataframe thead th {\n",
       "        text-align: right;\n",
       "    }\n",
       "</style>\n",
       "<table border=\"1\" class=\"dataframe\">\n",
       "  <thead>\n",
       "    <tr style=\"text-align: right;\">\n",
       "      <th></th>\n",
       "      <th>Open</th>\n",
       "      <th>High</th>\n",
       "      <th>Low</th>\n",
       "      <th>Close</th>\n",
       "      <th>Adj Close</th>\n",
       "      <th>Volume</th>\n",
       "    </tr>\n",
       "    <tr>\n",
       "      <th>Date</th>\n",
       "      <th></th>\n",
       "      <th></th>\n",
       "      <th></th>\n",
       "      <th></th>\n",
       "      <th></th>\n",
       "      <th></th>\n",
       "    </tr>\n",
       "  </thead>\n",
       "  <tbody>\n",
       "    <tr>\n",
       "      <th>2004-08-19</th>\n",
       "      <td>49.81329</td>\n",
       "      <td>51.835709</td>\n",
       "      <td>47.800831</td>\n",
       "      <td>49.982655</td>\n",
       "      <td>49.982655</td>\n",
       "      <td>44871361</td>\n",
       "    </tr>\n",
       "  </tbody>\n",
       "</table>\n",
       "</div>"
      ],
      "text/plain": [
       "                Open       High        Low      Close  Adj Close    Volume\n",
       "Date                                                                      \n",
       "2004-08-19  49.81329  51.835709  47.800831  49.982655  49.982655  44871361"
      ]
     },
     "execution_count": 47,
     "metadata": {},
     "output_type": "execute_result"
    }
   ],
   "source": [
    "df1.head(1)"
   ]
  },
  {
   "cell_type": "code",
   "execution_count": 50,
   "metadata": {},
   "outputs": [
    {
     "data": {
      "text/plain": [
       "Open           2910.879883\n",
       "High           2927.300049\n",
       "Low            2893.550049\n",
       "Close          2893.590088\n",
       "Adj Close      2893.590088\n",
       "Volume       864900.000000\n",
       "Name: 2021-12-31 00:00:00, dtype: float64"
      ]
     },
     "execution_count": 50,
     "metadata": {},
     "output_type": "execute_result"
    }
   ],
   "source": [
    "# Fetch a Specific Date\n",
    "df1.loc['2021-12-31']"
   ]
  },
  {
   "cell_type": "code",
   "execution_count": 52,
   "metadata": {},
   "outputs": [
    {
     "data": {
      "text/html": [
       "<div>\n",
       "<style scoped>\n",
       "    .dataframe tbody tr th:only-of-type {\n",
       "        vertical-align: middle;\n",
       "    }\n",
       "\n",
       "    .dataframe tbody tr th {\n",
       "        vertical-align: top;\n",
       "    }\n",
       "\n",
       "    .dataframe thead th {\n",
       "        text-align: right;\n",
       "    }\n",
       "</style>\n",
       "<table border=\"1\" class=\"dataframe\">\n",
       "  <thead>\n",
       "    <tr style=\"text-align: right;\">\n",
       "      <th></th>\n",
       "      <th>Open</th>\n",
       "      <th>High</th>\n",
       "      <th>Low</th>\n",
       "      <th>Close</th>\n",
       "      <th>Adj Close</th>\n",
       "      <th>Volume</th>\n",
       "    </tr>\n",
       "    <tr>\n",
       "      <th>Date</th>\n",
       "      <th></th>\n",
       "      <th></th>\n",
       "      <th></th>\n",
       "      <th></th>\n",
       "      <th></th>\n",
       "      <th></th>\n",
       "    </tr>\n",
       "  </thead>\n",
       "  <tbody>\n",
       "    <tr>\n",
       "      <th>2021-01-04</th>\n",
       "      <td>1757.540039</td>\n",
       "      <td>1760.650024</td>\n",
       "      <td>1707.849976</td>\n",
       "      <td>1728.239990</td>\n",
       "      <td>1728.239990</td>\n",
       "      <td>1901900</td>\n",
       "    </tr>\n",
       "    <tr>\n",
       "      <th>2021-01-05</th>\n",
       "      <td>1725.000000</td>\n",
       "      <td>1747.670044</td>\n",
       "      <td>1718.015015</td>\n",
       "      <td>1740.920044</td>\n",
       "      <td>1740.920044</td>\n",
       "      <td>1145300</td>\n",
       "    </tr>\n",
       "    <tr>\n",
       "      <th>2021-01-06</th>\n",
       "      <td>1702.630005</td>\n",
       "      <td>1748.000000</td>\n",
       "      <td>1699.000000</td>\n",
       "      <td>1735.290039</td>\n",
       "      <td>1735.290039</td>\n",
       "      <td>2602100</td>\n",
       "    </tr>\n",
       "    <tr>\n",
       "      <th>2021-01-07</th>\n",
       "      <td>1740.060059</td>\n",
       "      <td>1788.400024</td>\n",
       "      <td>1737.050049</td>\n",
       "      <td>1787.250000</td>\n",
       "      <td>1787.250000</td>\n",
       "      <td>2265000</td>\n",
       "    </tr>\n",
       "    <tr>\n",
       "      <th>2021-01-08</th>\n",
       "      <td>1787.979980</td>\n",
       "      <td>1809.839966</td>\n",
       "      <td>1773.535034</td>\n",
       "      <td>1807.209961</td>\n",
       "      <td>1807.209961</td>\n",
       "      <td>2050600</td>\n",
       "    </tr>\n",
       "    <tr>\n",
       "      <th>...</th>\n",
       "      <td>...</td>\n",
       "      <td>...</td>\n",
       "      <td>...</td>\n",
       "      <td>...</td>\n",
       "      <td>...</td>\n",
       "      <td>...</td>\n",
       "    </tr>\n",
       "    <tr>\n",
       "      <th>2021-12-27</th>\n",
       "      <td>2949.270020</td>\n",
       "      <td>2968.530029</td>\n",
       "      <td>2945.000000</td>\n",
       "      <td>2961.280029</td>\n",
       "      <td>2961.280029</td>\n",
       "      <td>662800</td>\n",
       "    </tr>\n",
       "    <tr>\n",
       "      <th>2021-12-28</th>\n",
       "      <td>2967.489990</td>\n",
       "      <td>2967.489990</td>\n",
       "      <td>2918.709961</td>\n",
       "      <td>2928.959961</td>\n",
       "      <td>2928.959961</td>\n",
       "      <td>931200</td>\n",
       "    </tr>\n",
       "    <tr>\n",
       "      <th>2021-12-29</th>\n",
       "      <td>2928.590088</td>\n",
       "      <td>2943.675049</td>\n",
       "      <td>2910.090088</td>\n",
       "      <td>2930.090088</td>\n",
       "      <td>2930.090088</td>\n",
       "      <td>851100</td>\n",
       "    </tr>\n",
       "    <tr>\n",
       "      <th>2021-12-30</th>\n",
       "      <td>2929.000000</td>\n",
       "      <td>2941.250000</td>\n",
       "      <td>2915.169922</td>\n",
       "      <td>2920.050049</td>\n",
       "      <td>2920.050049</td>\n",
       "      <td>648900</td>\n",
       "    </tr>\n",
       "    <tr>\n",
       "      <th>2021-12-31</th>\n",
       "      <td>2910.879883</td>\n",
       "      <td>2927.300049</td>\n",
       "      <td>2893.550049</td>\n",
       "      <td>2893.590088</td>\n",
       "      <td>2893.590088</td>\n",
       "      <td>864900</td>\n",
       "    </tr>\n",
       "  </tbody>\n",
       "</table>\n",
       "<p>252 rows × 6 columns</p>\n",
       "</div>"
      ],
      "text/plain": [
       "                   Open         High          Low        Close    Adj Close  \\\n",
       "Date                                                                          \n",
       "2021-01-04  1757.540039  1760.650024  1707.849976  1728.239990  1728.239990   \n",
       "2021-01-05  1725.000000  1747.670044  1718.015015  1740.920044  1740.920044   \n",
       "2021-01-06  1702.630005  1748.000000  1699.000000  1735.290039  1735.290039   \n",
       "2021-01-07  1740.060059  1788.400024  1737.050049  1787.250000  1787.250000   \n",
       "2021-01-08  1787.979980  1809.839966  1773.535034  1807.209961  1807.209961   \n",
       "...                 ...          ...          ...          ...          ...   \n",
       "2021-12-27  2949.270020  2968.530029  2945.000000  2961.280029  2961.280029   \n",
       "2021-12-28  2967.489990  2967.489990  2918.709961  2928.959961  2928.959961   \n",
       "2021-12-29  2928.590088  2943.675049  2910.090088  2930.090088  2930.090088   \n",
       "2021-12-30  2929.000000  2941.250000  2915.169922  2920.050049  2920.050049   \n",
       "2021-12-31  2910.879883  2927.300049  2893.550049  2893.590088  2893.590088   \n",
       "\n",
       "             Volume  \n",
       "Date                 \n",
       "2021-01-04  1901900  \n",
       "2021-01-05  1145300  \n",
       "2021-01-06  2602100  \n",
       "2021-01-07  2265000  \n",
       "2021-01-08  2050600  \n",
       "...             ...  \n",
       "2021-12-27   662800  \n",
       "2021-12-28   931200  \n",
       "2021-12-29   851100  \n",
       "2021-12-30   648900  \n",
       "2021-12-31   864900  \n",
       "\n",
       "[252 rows x 6 columns]"
      ]
     },
     "execution_count": 52,
     "metadata": {},
     "output_type": "execute_result"
    }
   ],
   "source": [
    "# Partial Indexing -> Select a particular year/month\n",
    "\n",
    "df1.loc['2021-12']\n",
    "df1.loc['2021']\n"
   ]
  },
  {
   "cell_type": "code",
   "execution_count": 61,
   "metadata": {},
   "outputs": [],
   "source": [
    "# Create year month-name and day-name\n",
    "\n",
    "df1['month_name'] = df1.index.month_name()\n",
    "df1['weekday_name'] = df1.index.day_name()\n",
    "df1['quarter'] = df1.index.quarter\n"
   ]
  },
  {
   "cell_type": "code",
   "execution_count": 63,
   "metadata": {},
   "outputs": [
    {
     "data": {
      "text/plain": [
       "Wednesday    918\n",
       "Tuesday      916\n",
       "Thursday     903\n",
       "Friday       895\n",
       "Monday       839\n",
       "Name: weekday_name, dtype: int64"
      ]
     },
     "execution_count": 63,
     "metadata": {},
     "output_type": "execute_result"
    }
   ],
   "source": [
    "df1['weekday_name'].value_counts()"
   ]
  },
  {
   "cell_type": "markdown",
   "metadata": {},
   "source": [
    "# Slicing"
   ]
  },
  {
   "cell_type": "code",
   "execution_count": 66,
   "metadata": {},
   "outputs": [
    {
     "data": {
      "text/html": [
       "<div>\n",
       "<style scoped>\n",
       "    .dataframe tbody tr th:only-of-type {\n",
       "        vertical-align: middle;\n",
       "    }\n",
       "\n",
       "    .dataframe tbody tr th {\n",
       "        vertical-align: top;\n",
       "    }\n",
       "\n",
       "    .dataframe thead th {\n",
       "        text-align: right;\n",
       "    }\n",
       "</style>\n",
       "<table border=\"1\" class=\"dataframe\">\n",
       "  <thead>\n",
       "    <tr style=\"text-align: right;\">\n",
       "      <th></th>\n",
       "      <th>Open</th>\n",
       "      <th>High</th>\n",
       "      <th>Low</th>\n",
       "      <th>Close</th>\n",
       "      <th>Adj Close</th>\n",
       "      <th>Volume</th>\n",
       "      <th>month_name</th>\n",
       "      <th>weekday_name</th>\n",
       "      <th>quarter</th>\n",
       "    </tr>\n",
       "    <tr>\n",
       "      <th>Date</th>\n",
       "      <th></th>\n",
       "      <th></th>\n",
       "      <th></th>\n",
       "      <th></th>\n",
       "      <th></th>\n",
       "      <th></th>\n",
       "      <th></th>\n",
       "      <th></th>\n",
       "      <th></th>\n",
       "    </tr>\n",
       "  </thead>\n",
       "  <tbody>\n",
       "    <tr>\n",
       "      <th>2020-01-15</th>\n",
       "      <td>1430.209961</td>\n",
       "      <td>1441.395020</td>\n",
       "      <td>1430.209961</td>\n",
       "      <td>1439.199951</td>\n",
       "      <td>1439.199951</td>\n",
       "      <td>1282700</td>\n",
       "      <td>January</td>\n",
       "      <td>Wednesday</td>\n",
       "      <td>1</td>\n",
       "    </tr>\n",
       "    <tr>\n",
       "      <th>2020-01-16</th>\n",
       "      <td>1447.439941</td>\n",
       "      <td>1451.989990</td>\n",
       "      <td>1440.920044</td>\n",
       "      <td>1451.699951</td>\n",
       "      <td>1451.699951</td>\n",
       "      <td>1173700</td>\n",
       "      <td>January</td>\n",
       "      <td>Thursday</td>\n",
       "      <td>1</td>\n",
       "    </tr>\n",
       "    <tr>\n",
       "      <th>2020-01-17</th>\n",
       "      <td>1462.910034</td>\n",
       "      <td>1481.295044</td>\n",
       "      <td>1458.219971</td>\n",
       "      <td>1480.390015</td>\n",
       "      <td>1480.390015</td>\n",
       "      <td>2396200</td>\n",
       "      <td>January</td>\n",
       "      <td>Friday</td>\n",
       "      <td>1</td>\n",
       "    </tr>\n",
       "    <tr>\n",
       "      <th>2020-01-21</th>\n",
       "      <td>1479.119995</td>\n",
       "      <td>1491.849976</td>\n",
       "      <td>1471.199951</td>\n",
       "      <td>1484.400024</td>\n",
       "      <td>1484.400024</td>\n",
       "      <td>2036700</td>\n",
       "      <td>January</td>\n",
       "      <td>Tuesday</td>\n",
       "      <td>1</td>\n",
       "    </tr>\n",
       "    <tr>\n",
       "      <th>2020-01-22</th>\n",
       "      <td>1491.000000</td>\n",
       "      <td>1503.213989</td>\n",
       "      <td>1484.930054</td>\n",
       "      <td>1485.949951</td>\n",
       "      <td>1485.949951</td>\n",
       "      <td>1610800</td>\n",
       "      <td>January</td>\n",
       "      <td>Wednesday</td>\n",
       "      <td>1</td>\n",
       "    </tr>\n",
       "    <tr>\n",
       "      <th>2020-01-23</th>\n",
       "      <td>1487.640015</td>\n",
       "      <td>1495.520020</td>\n",
       "      <td>1482.099976</td>\n",
       "      <td>1486.650024</td>\n",
       "      <td>1486.650024</td>\n",
       "      <td>1351200</td>\n",
       "      <td>January</td>\n",
       "      <td>Thursday</td>\n",
       "      <td>1</td>\n",
       "    </tr>\n",
       "    <tr>\n",
       "      <th>2020-01-24</th>\n",
       "      <td>1493.589966</td>\n",
       "      <td>1495.494995</td>\n",
       "      <td>1465.250000</td>\n",
       "      <td>1466.709961</td>\n",
       "      <td>1466.709961</td>\n",
       "      <td>1784600</td>\n",
       "      <td>January</td>\n",
       "      <td>Friday</td>\n",
       "      <td>1</td>\n",
       "    </tr>\n",
       "    <tr>\n",
       "      <th>2020-01-27</th>\n",
       "      <td>1431.000000</td>\n",
       "      <td>1438.069946</td>\n",
       "      <td>1421.199951</td>\n",
       "      <td>1433.900024</td>\n",
       "      <td>1433.900024</td>\n",
       "      <td>1755200</td>\n",
       "      <td>January</td>\n",
       "      <td>Monday</td>\n",
       "      <td>1</td>\n",
       "    </tr>\n",
       "    <tr>\n",
       "      <th>2020-01-28</th>\n",
       "      <td>1443.000000</td>\n",
       "      <td>1456.000000</td>\n",
       "      <td>1432.469971</td>\n",
       "      <td>1452.560059</td>\n",
       "      <td>1452.560059</td>\n",
       "      <td>1577400</td>\n",
       "      <td>January</td>\n",
       "      <td>Tuesday</td>\n",
       "      <td>1</td>\n",
       "    </tr>\n",
       "    <tr>\n",
       "      <th>2020-01-29</th>\n",
       "      <td>1458.800049</td>\n",
       "      <td>1465.430054</td>\n",
       "      <td>1446.739990</td>\n",
       "      <td>1458.630005</td>\n",
       "      <td>1458.630005</td>\n",
       "      <td>1077700</td>\n",
       "      <td>January</td>\n",
       "      <td>Wednesday</td>\n",
       "      <td>1</td>\n",
       "    </tr>\n",
       "    <tr>\n",
       "      <th>2020-01-30</th>\n",
       "      <td>1439.959961</td>\n",
       "      <td>1457.280029</td>\n",
       "      <td>1436.400024</td>\n",
       "      <td>1455.839966</td>\n",
       "      <td>1455.839966</td>\n",
       "      <td>1339400</td>\n",
       "      <td>January</td>\n",
       "      <td>Thursday</td>\n",
       "      <td>1</td>\n",
       "    </tr>\n",
       "    <tr>\n",
       "      <th>2020-01-31</th>\n",
       "      <td>1468.900024</td>\n",
       "      <td>1470.130005</td>\n",
       "      <td>1428.530029</td>\n",
       "      <td>1434.229980</td>\n",
       "      <td>1434.229980</td>\n",
       "      <td>2417200</td>\n",
       "      <td>January</td>\n",
       "      <td>Friday</td>\n",
       "      <td>1</td>\n",
       "    </tr>\n",
       "  </tbody>\n",
       "</table>\n",
       "</div>"
      ],
      "text/plain": [
       "                   Open         High          Low        Close    Adj Close  \\\n",
       "Date                                                                          \n",
       "2020-01-15  1430.209961  1441.395020  1430.209961  1439.199951  1439.199951   \n",
       "2020-01-16  1447.439941  1451.989990  1440.920044  1451.699951  1451.699951   \n",
       "2020-01-17  1462.910034  1481.295044  1458.219971  1480.390015  1480.390015   \n",
       "2020-01-21  1479.119995  1491.849976  1471.199951  1484.400024  1484.400024   \n",
       "2020-01-22  1491.000000  1503.213989  1484.930054  1485.949951  1485.949951   \n",
       "2020-01-23  1487.640015  1495.520020  1482.099976  1486.650024  1486.650024   \n",
       "2020-01-24  1493.589966  1495.494995  1465.250000  1466.709961  1466.709961   \n",
       "2020-01-27  1431.000000  1438.069946  1421.199951  1433.900024  1433.900024   \n",
       "2020-01-28  1443.000000  1456.000000  1432.469971  1452.560059  1452.560059   \n",
       "2020-01-29  1458.800049  1465.430054  1446.739990  1458.630005  1458.630005   \n",
       "2020-01-30  1439.959961  1457.280029  1436.400024  1455.839966  1455.839966   \n",
       "2020-01-31  1468.900024  1470.130005  1428.530029  1434.229980  1434.229980   \n",
       "\n",
       "             Volume month_name weekday_name  quarter  \n",
       "Date                                                  \n",
       "2020-01-15  1282700    January    Wednesday        1  \n",
       "2020-01-16  1173700    January     Thursday        1  \n",
       "2020-01-17  2396200    January       Friday        1  \n",
       "2020-01-21  2036700    January      Tuesday        1  \n",
       "2020-01-22  1610800    January    Wednesday        1  \n",
       "2020-01-23  1351200    January     Thursday        1  \n",
       "2020-01-24  1784600    January       Friday        1  \n",
       "2020-01-27  1755200    January       Monday        1  \n",
       "2020-01-28  1577400    January      Tuesday        1  \n",
       "2020-01-29  1077700    January    Wednesday        1  \n",
       "2020-01-30  1339400    January     Thursday        1  \n",
       "2020-01-31  2417200    January       Friday        1  "
      ]
     },
     "execution_count": 66,
     "metadata": {},
     "output_type": "execute_result"
    }
   ],
   "source": [
    "df1.loc['2020-01-15':'2020-01-31']"
   ]
  },
  {
   "cell_type": "code",
   "execution_count": null,
   "metadata": {},
   "outputs": [],
   "source": []
  }
 ],
 "metadata": {
  "kernelspec": {
   "display_name": "Python 3",
   "language": "python",
   "name": "python3"
  },
  "language_info": {
   "codemirror_mode": {
    "name": "ipython",
    "version": 3
   },
   "file_extension": ".py",
   "mimetype": "text/x-python",
   "name": "python",
   "nbconvert_exporter": "python",
   "pygments_lexer": "ipython3",
   "version": "3.11.4"
  }
 },
 "nbformat": 4,
 "nbformat_minor": 2
}
